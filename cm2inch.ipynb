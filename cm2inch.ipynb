{
  "nbformat": 4,
  "nbformat_minor": 0,
  "metadata": {
    "colab": {
      "name": "Untitled0.ipynb",
      "provenance": []
    },
    "kernelspec": {
      "name": "python3",
      "display_name": "Python 3"
    }
  },
  "cells": [
    {
      "cell_type": "code",
      "metadata": {
        "colab_type": "code",
        "id": "X9uIpOS2zx7k",
        "colab": {
          "base_uri": "https://localhost:8080/",
          "height": 449
        },
        "outputId": "0c364075-6ec4-4a4a-a323-bb75ed6c573d"
      },
      "source": [
        "from __future__ import absolute_import, division, print_function, unicode_literals\n",
        "try:\n",
        "  # Use the %tensorflow_version magic if in colab.\n",
        "  %tensorflow_version 2.x\n",
        "except Exception:\n",
        "  pass\n",
        "\n",
        "import tensorflow as tf\n",
        "import numpy as np\n",
        "import logging\n",
        "logger = tf.get_logger()\n",
        "logger.setLevel(logging.ERROR)\n",
        "\n",
        "centimeters    = np.array([1, 6,  12,  15, 23, 57,  123],  dtype=float)\n",
        "inches = np.array([0.3937007874,  2.362204724, 4.724409449, 5.905511811, 9.05511811, 22.44094488, 48.42519685],  dtype=float)\n",
        "\n",
        "for i,c in enumerate(centimeters):\n",
        "  print(\"{} to Centimeters = {} to inches\".format(c, inches[i]))\n",
        "\n",
        "  l0 = tf.keras.layers.Dense(units=1, input_shape=[1])\n",
        "  model = tf.keras.Sequential([l0])\n",
        "  model = tf.keras.Sequential([\n",
        "  tf.keras.layers.Dense(units=1, input_shape=[1])\n",
        "])\n",
        "  model.compile(loss='mean_squared_error',\n",
        "              optimizer=tf.keras.optimizers.Adam(0.1))\n",
        "  history = model.fit(centimeters, inches, epochs=500, verbose=False)\n",
        "print(\"Finished training the model\")\n",
        "import matplotlib.pyplot as plt\n",
        "plt.xlabel('Epoch Number')\n",
        "plt.ylabel(\"Loss Magnitude\")\n",
        "plt.plot(history.history['loss'])\n",
        "print(model.predict([100.0]))\n",
        "print(\"These are the layer variables: {}\".format(l0.get_weights()))"
      ],
      "execution_count": 4,
      "outputs": [
        {
          "output_type": "stream",
          "text": [
            "1.0 to Centimeters = 0.3937007874 to inches\n",
            "6.0 to Centimeters = 2.362204724 to inches\n",
            "12.0 to Centimeters = 4.724409449 to inches\n",
            "15.0 to Centimeters = 5.905511811 to inches\n",
            "23.0 to Centimeters = 9.05511811 to inches\n",
            "57.0 to Centimeters = 22.44094488 to inches\n",
            "123.0 to Centimeters = 48.42519685 to inches\n",
            "Finished training the model\n",
            "[[39.370438]]\n",
            "These are the layer variables: [array([[1.0891358]], dtype=float32), array([0.], dtype=float32)]\n"
          ],
          "name": "stdout"
        },
        {
          "output_type": "display_data",
          "data": {
            "image/png": "[encoded data removed]",
            "text/plain": [
              "<Figure size 432x288 with 1 Axes>"
            ]
          },
          "metadata": {
            "tags": []
          }
        }
      ]
    }
  ]
}